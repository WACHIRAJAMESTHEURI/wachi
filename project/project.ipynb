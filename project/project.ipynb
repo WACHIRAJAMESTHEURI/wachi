{
 "cells": [
  {
   "cell_type": "code",
   "execution_count": 1,
   "metadata": {
    "id": "uaHbU0E0qrLS"
   },
   "outputs": [],
   "source": [
    "import pandas as pd \n",
    "import numpy as np \n",
    "\n",
    "import seaborn as sns \n",
    "import matplotlib.pyplot as plt \n",
    "%matplotlib inline \n",
    "import time \n",
    "\n",
    "from sklearn.linear_model import LogisticRegression\n",
    "from sklearn.naive_bayes import MultinomialNB \n",
    "\n",
    "from sklearn.model_selection import train_test_split \n",
    "from sklearn.metrics import classification_report \n",
    "from sklearn.metrics import confusion_matrix \n",
    "from nltk.tokenize import RegexpTokenizer  \n",
    "from nltk.stem.snowball import SnowballStemmer \n",
    "from sklearn.feature_extraction.text import CountVectorizer \n",
    "from sklearn.pipeline import make_pipeline \n",
    "\n",
    "from PIL import Image \n",
    "\n",
    "from bs4 import BeautifulSoup \n",
    "import networkx as nx \n",
    "\n",
    "import pickle\n",
    "import warnings \n",
    "warnings.filterwarnings('ignore')\n",
    "from sklearn.tree import DecisionTreeClassifier\n"
   ]
  },
  {
   "cell_type": "code",
   "execution_count": 3,
   "metadata": {
    "id": "FLzt93u0AQrU"
   },
   "outputs": [],
   "source": [
    "phish_data = pd.read_csv('data.csv')"
   ]
  },
  {
   "cell_type": "code",
   "execution_count": 4,
   "metadata": {
    "colab": {
     "base_uri": "https://localhost:8080/",
     "height": 206
    },
    "id": "0S9Y7PCdBG74",
    "outputId": "32e3af9a-a4bc-429e-bd44-9f3f8e29f330"
   },
   "outputs": [
    {
     "data": {
      "text/html": [
       "<div>\n",
       "<style scoped>\n",
       "    .dataframe tbody tr th:only-of-type {\n",
       "        vertical-align: middle;\n",
       "    }\n",
       "\n",
       "    .dataframe tbody tr th {\n",
       "        vertical-align: top;\n",
       "    }\n",
       "\n",
       "    .dataframe thead th {\n",
       "        text-align: right;\n",
       "    }\n",
       "</style>\n",
       "<table border=\"1\" class=\"dataframe\">\n",
       "  <thead>\n",
       "    <tr style=\"text-align: right;\">\n",
       "      <th></th>\n",
       "      <th>url</th>\n",
       "      <th>label</th>\n",
       "    </tr>\n",
       "  </thead>\n",
       "  <tbody>\n",
       "    <tr>\n",
       "      <th>0</th>\n",
       "      <td>diaryofagameaddict.com</td>\n",
       "      <td>bad</td>\n",
       "    </tr>\n",
       "    <tr>\n",
       "      <th>1</th>\n",
       "      <td>espdesign.com.au</td>\n",
       "      <td>bad</td>\n",
       "    </tr>\n",
       "    <tr>\n",
       "      <th>2</th>\n",
       "      <td>iamagameaddict.com</td>\n",
       "      <td>bad</td>\n",
       "    </tr>\n",
       "    <tr>\n",
       "      <th>3</th>\n",
       "      <td>kalantzis.net</td>\n",
       "      <td>bad</td>\n",
       "    </tr>\n",
       "    <tr>\n",
       "      <th>4</th>\n",
       "      <td>slightlyoffcenter.net</td>\n",
       "      <td>bad</td>\n",
       "    </tr>\n",
       "  </tbody>\n",
       "</table>\n",
       "</div>"
      ],
      "text/plain": [
       "                      url label\n",
       "0  diaryofagameaddict.com   bad\n",
       "1        espdesign.com.au   bad\n",
       "2      iamagameaddict.com   bad\n",
       "3           kalantzis.net   bad\n",
       "4   slightlyoffcenter.net   bad"
      ]
     },
     "execution_count": 4,
     "metadata": {},
     "output_type": "execute_result"
    }
   ],
   "source": [
    "phish_data.head()"
   ]
  },
  {
   "cell_type": "code",
   "execution_count": 5,
   "metadata": {
    "colab": {
     "base_uri": "https://localhost:8080/",
     "height": 206
    },
    "id": "bT3baPtLBJTs",
    "outputId": "ebae926c-55dc-4c22-cec8-93d482ea1821"
   },
   "outputs": [
    {
     "data": {
      "text/html": [
       "<div>\n",
       "<style scoped>\n",
       "    .dataframe tbody tr th:only-of-type {\n",
       "        vertical-align: middle;\n",
       "    }\n",
       "\n",
       "    .dataframe tbody tr th {\n",
       "        vertical-align: top;\n",
       "    }\n",
       "\n",
       "    .dataframe thead th {\n",
       "        text-align: right;\n",
       "    }\n",
       "</style>\n",
       "<table border=\"1\" class=\"dataframe\">\n",
       "  <thead>\n",
       "    <tr style=\"text-align: right;\">\n",
       "      <th></th>\n",
       "      <th>url</th>\n",
       "      <th>label</th>\n",
       "    </tr>\n",
       "  </thead>\n",
       "  <tbody>\n",
       "    <tr>\n",
       "      <th>420459</th>\n",
       "      <td>23.227.196.215/</td>\n",
       "      <td>bad</td>\n",
       "    </tr>\n",
       "    <tr>\n",
       "      <th>420460</th>\n",
       "      <td>apple-checker.org/</td>\n",
       "      <td>bad</td>\n",
       "    </tr>\n",
       "    <tr>\n",
       "      <th>420461</th>\n",
       "      <td>apple-iclods.org/</td>\n",
       "      <td>bad</td>\n",
       "    </tr>\n",
       "    <tr>\n",
       "      <th>420462</th>\n",
       "      <td>apple-uptoday.org/</td>\n",
       "      <td>bad</td>\n",
       "    </tr>\n",
       "    <tr>\n",
       "      <th>420463</th>\n",
       "      <td>apple-search.info</td>\n",
       "      <td>bad</td>\n",
       "    </tr>\n",
       "  </tbody>\n",
       "</table>\n",
       "</div>"
      ],
      "text/plain": [
       "                       url label\n",
       "420459     23.227.196.215/   bad\n",
       "420460  apple-checker.org/   bad\n",
       "420461   apple-iclods.org/   bad\n",
       "420462  apple-uptoday.org/   bad\n",
       "420463   apple-search.info   bad"
      ]
     },
     "execution_count": 5,
     "metadata": {},
     "output_type": "execute_result"
    }
   ],
   "source": [
    "phish_data.tail()"
   ]
  },
  {
   "cell_type": "code",
   "execution_count": 6,
   "metadata": {
    "colab": {
     "base_uri": "https://localhost:8080/"
    },
    "id": "I7eWGTrfBWtu",
    "outputId": "374f6c01-0eaa-494b-b3be-2be84ee4d327"
   },
   "outputs": [
    {
     "name": "stdout",
     "output_type": "stream",
     "text": [
      "<class 'pandas.core.frame.DataFrame'>\n",
      "RangeIndex: 420464 entries, 0 to 420463\n",
      "Data columns (total 2 columns):\n",
      " #   Column  Non-Null Count   Dtype \n",
      "---  ------  --------------   ----- \n",
      " 0   url     420464 non-null  object\n",
      " 1   label   420464 non-null  object\n",
      "dtypes: object(2)\n",
      "memory usage: 6.4+ MB\n"
     ]
    }
   ],
   "source": [
    "phish_data.info()"
   ]
  },
  {
   "cell_type": "code",
   "execution_count": 7,
   "metadata": {
    "colab": {
     "base_uri": "https://localhost:8080/"
    },
    "id": "rmdozOtnBcLF",
    "outputId": "e2521221-e947-4543-d011-ada9823c6082"
   },
   "outputs": [
    {
     "data": {
      "text/plain": [
       "url      0\n",
       "label    0\n",
       "dtype: int64"
      ]
     },
     "execution_count": 7,
     "metadata": {},
     "output_type": "execute_result"
    }
   ],
   "source": [
    "phish_data.isnull().sum()"
   ]
  },
  {
   "cell_type": "code",
   "execution_count": 8,
   "metadata": {
    "id": "ya-jUHa6Bjzx"
   },
   "outputs": [],
   "source": [
    "tokenizer = RegexpTokenizer(r'[A-Za-z]+')"
   ]
  },
  {
   "cell_type": "code",
   "execution_count": 9,
   "metadata": {
    "colab": {
     "base_uri": "https://localhost:8080/",
     "height": 35
    },
    "id": "ZrMqWvxFBkXE",
    "outputId": "284e0aa8-9f80-43a9-b9e8-b381d0316bf5"
   },
   "outputs": [
    {
     "data": {
      "text/plain": [
       "'diaryofagameaddict.com'"
      ]
     },
     "execution_count": 9,
     "metadata": {},
     "output_type": "execute_result"
    }
   ],
   "source": [
    "phish_data.url[0]"
   ]
  },
  {
   "cell_type": "code",
   "execution_count": 10,
   "metadata": {
    "colab": {
     "base_uri": "https://localhost:8080/"
    },
    "id": "ImoorPHJBkxy",
    "outputId": "aa30fa87-b85a-417b-8c49-a5dc40413d67"
   },
   "outputs": [
    {
     "data": {
      "text/plain": [
       "['diaryofagameaddict', 'com']"
      ]
     },
     "execution_count": 10,
     "metadata": {},
     "output_type": "execute_result"
    }
   ],
   "source": [
    "tokenizer.tokenize(phish_data.url[0])"
   ]
  },
  {
   "cell_type": "code",
   "execution_count": 11,
   "metadata": {
    "colab": {
     "base_uri": "https://localhost:8080/"
    },
    "id": "m2SoSNSxBk_E",
    "outputId": "a5b4f0c4-19bc-4a36-f576-d4ad1054808a"
   },
   "outputs": [
    {
     "name": "stdout",
     "output_type": "stream",
     "text": [
      "Getting words tokenized ...\n",
      "Time taken 2.921884299999988 sec\n"
     ]
    }
   ],
   "source": [
    "print('Getting words tokenized ...')\n",
    "t0= time.perf_counter()\n",
    "phish_data['text_tokenized'] = phish_data.url.map(lambda t: tokenizer.tokenize(t)) # doing with all rows\n",
    "t1 = time.perf_counter() - t0\n",
    "print('Time taken',t1 ,'sec')"
   ]
  },
  {
   "cell_type": "code",
   "execution_count": 12,
   "metadata": {
    "colab": {
     "base_uri": "https://localhost:8080/",
     "height": 206
    },
    "id": "MJhAAORzBlK-",
    "outputId": "b271a926-adda-4b4f-979f-374ff6f45c63"
   },
   "outputs": [
    {
     "data": {
      "text/html": [
       "<div>\n",
       "<style scoped>\n",
       "    .dataframe tbody tr th:only-of-type {\n",
       "        vertical-align: middle;\n",
       "    }\n",
       "\n",
       "    .dataframe tbody tr th {\n",
       "        vertical-align: top;\n",
       "    }\n",
       "\n",
       "    .dataframe thead th {\n",
       "        text-align: right;\n",
       "    }\n",
       "</style>\n",
       "<table border=\"1\" class=\"dataframe\">\n",
       "  <thead>\n",
       "    <tr style=\"text-align: right;\">\n",
       "      <th></th>\n",
       "      <th>url</th>\n",
       "      <th>label</th>\n",
       "      <th>text_tokenized</th>\n",
       "    </tr>\n",
       "  </thead>\n",
       "  <tbody>\n",
       "    <tr>\n",
       "      <th>377552</th>\n",
       "      <td>youtube.com/watch?v=Mfq0bO6MpL0</td>\n",
       "      <td>good</td>\n",
       "      <td>[youtube, com, watch, v, Mfq, bO, MpL]</td>\n",
       "    </tr>\n",
       "    <tr>\n",
       "      <th>332629</th>\n",
       "      <td>scribd.com/doc/51625586/The-Great-Squid-Hunt-O...</td>\n",
       "      <td>good</td>\n",
       "      <td>[scribd, com, doc, The, Great, Squid, Hunt, On...</td>\n",
       "    </tr>\n",
       "    <tr>\n",
       "      <th>126117</th>\n",
       "      <td>norcalbizval.com/</td>\n",
       "      <td>good</td>\n",
       "      <td>[norcalbizval, com]</td>\n",
       "    </tr>\n",
       "    <tr>\n",
       "      <th>177630</th>\n",
       "      <td>amazon.co.uk/Murder-Rooms-Patients-Inspiration...</td>\n",
       "      <td>good</td>\n",
       "      <td>[amazon, co, uk, Murder, Rooms, Patients, Insp...</td>\n",
       "    </tr>\n",
       "    <tr>\n",
       "      <th>143125</th>\n",
       "      <td>showstudio.com/contributor/erin_o_connor</td>\n",
       "      <td>good</td>\n",
       "      <td>[showstudio, com, contributor, erin, o, connor]</td>\n",
       "    </tr>\n",
       "  </tbody>\n",
       "</table>\n",
       "</div>"
      ],
      "text/plain": [
       "                                                      url label  \\\n",
       "377552                    youtube.com/watch?v=Mfq0bO6MpL0  good   \n",
       "332629  scribd.com/doc/51625586/The-Great-Squid-Hunt-O...  good   \n",
       "126117                                  norcalbizval.com/  good   \n",
       "177630  amazon.co.uk/Murder-Rooms-Patients-Inspiration...  good   \n",
       "143125           showstudio.com/contributor/erin_o_connor  good   \n",
       "\n",
       "                                           text_tokenized  \n",
       "377552             [youtube, com, watch, v, Mfq, bO, MpL]  \n",
       "332629  [scribd, com, doc, The, Great, Squid, Hunt, On...  \n",
       "126117                                [norcalbizval, com]  \n",
       "177630  [amazon, co, uk, Murder, Rooms, Patients, Insp...  \n",
       "143125    [showstudio, com, contributor, erin, o, connor]  "
      ]
     },
     "execution_count": 12,
     "metadata": {},
     "output_type": "execute_result"
    }
   ],
   "source": [
    "phish_data.sample(5)"
   ]
  },
  {
   "cell_type": "code",
   "execution_count": 13,
   "metadata": {
    "id": "1cE1dhdcBlXs"
   },
   "outputs": [],
   "source": [
    "stemmer = SnowballStemmer(\"english\")"
   ]
  },
  {
   "cell_type": "code",
   "execution_count": 14,
   "metadata": {
    "colab": {
     "base_uri": "https://localhost:8080/"
    },
    "id": "0SVSDnrbBljG",
    "outputId": "276d4237-719c-4fa0-b8aa-f42c0e546d46"
   },
   "outputs": [
    {
     "name": "stdout",
     "output_type": "stream",
     "text": [
      "Getting words stemmed ...\n",
      "Time taken 57.09278270000004 sec\n"
     ]
    }
   ],
   "source": [
    "print('Getting words stemmed ...')\n",
    "t0= time.perf_counter()\n",
    "phish_data['text_stemmed'] = phish_data['text_tokenized'].map(lambda l: [stemmer.stem(word) for word in l])\n",
    "t1= time.perf_counter() - t0\n",
    "print('Time taken',t1 ,'sec')"
   ]
  },
  {
   "cell_type": "code",
   "execution_count": 15,
   "metadata": {
    "colab": {
     "base_uri": "https://localhost:8080/",
     "height": 302
    },
    "id": "qJ8kxnptC0ul",
    "outputId": "becb29f9-a6df-4d22-f55d-4631b6b8bdd5"
   },
   "outputs": [
    {
     "data": {
      "text/html": [
       "<div>\n",
       "<style scoped>\n",
       "    .dataframe tbody tr th:only-of-type {\n",
       "        vertical-align: middle;\n",
       "    }\n",
       "\n",
       "    .dataframe tbody tr th {\n",
       "        vertical-align: top;\n",
       "    }\n",
       "\n",
       "    .dataframe thead th {\n",
       "        text-align: right;\n",
       "    }\n",
       "</style>\n",
       "<table border=\"1\" class=\"dataframe\">\n",
       "  <thead>\n",
       "    <tr style=\"text-align: right;\">\n",
       "      <th></th>\n",
       "      <th>url</th>\n",
       "      <th>label</th>\n",
       "      <th>text_tokenized</th>\n",
       "      <th>text_stemmed</th>\n",
       "    </tr>\n",
       "  </thead>\n",
       "  <tbody>\n",
       "    <tr>\n",
       "      <th>306178</th>\n",
       "      <td>naymz.com/tomfihe1992452</td>\n",
       "      <td>good</td>\n",
       "      <td>[naymz, com, tomfihe]</td>\n",
       "      <td>[naymz, com, tomfih]</td>\n",
       "    </tr>\n",
       "    <tr>\n",
       "      <th>134144</th>\n",
       "      <td>pktube.onepakistan.com/colocs/</td>\n",
       "      <td>good</td>\n",
       "      <td>[pktube, onepakistan, com, colocs]</td>\n",
       "      <td>[pktube, onepakistan, com, coloc]</td>\n",
       "    </tr>\n",
       "    <tr>\n",
       "      <th>283814</th>\n",
       "      <td>lowellmiflorist.com/</td>\n",
       "      <td>good</td>\n",
       "      <td>[lowellmiflorist, com]</td>\n",
       "      <td>[lowellmiflorist, com]</td>\n",
       "    </tr>\n",
       "    <tr>\n",
       "      <th>319392</th>\n",
       "      <td>polarisrealty.com/en/properties/montreal/6_150...</td>\n",
       "      <td>good</td>\n",
       "      <td>[polarisrealty, com, en, properties, montreal,...</td>\n",
       "      <td>[polarisrealti, com, en, properti, montreal, m...</td>\n",
       "    </tr>\n",
       "    <tr>\n",
       "      <th>194118</th>\n",
       "      <td>belarusian-language-learning.com/index.php</td>\n",
       "      <td>good</td>\n",
       "      <td>[belarusian, language, learning, com, index, php]</td>\n",
       "      <td>[belarusian, languag, learn, com, index, php]</td>\n",
       "    </tr>\n",
       "  </tbody>\n",
       "</table>\n",
       "</div>"
      ],
      "text/plain": [
       "                                                      url label  \\\n",
       "306178                           naymz.com/tomfihe1992452  good   \n",
       "134144                     pktube.onepakistan.com/colocs/  good   \n",
       "283814                               lowellmiflorist.com/  good   \n",
       "319392  polarisrealty.com/en/properties/montreal/6_150...  good   \n",
       "194118         belarusian-language-learning.com/index.php  good   \n",
       "\n",
       "                                           text_tokenized  \\\n",
       "306178                              [naymz, com, tomfihe]   \n",
       "134144                 [pktube, onepakistan, com, colocs]   \n",
       "283814                             [lowellmiflorist, com]   \n",
       "319392  [polarisrealty, com, en, properties, montreal,...   \n",
       "194118  [belarusian, language, learning, com, index, php]   \n",
       "\n",
       "                                             text_stemmed  \n",
       "306178                               [naymz, com, tomfih]  \n",
       "134144                  [pktube, onepakistan, com, coloc]  \n",
       "283814                             [lowellmiflorist, com]  \n",
       "319392  [polarisrealti, com, en, properti, montreal, m...  \n",
       "194118      [belarusian, languag, learn, com, index, php]  "
      ]
     },
     "execution_count": 15,
     "metadata": {},
     "output_type": "execute_result"
    }
   ],
   "source": [
    "phish_data.sample(5)"
   ]
  },
  {
   "cell_type": "code",
   "execution_count": 16,
   "metadata": {
    "colab": {
     "base_uri": "https://localhost:8080/"
    },
    "id": "SRpBs5QnC1B3",
    "outputId": "2ef1eb5b-2680-45f1-970a-445c5c863087"
   },
   "outputs": [
    {
     "name": "stdout",
     "output_type": "stream",
     "text": [
      "Getting joiningwords ...\n",
      "Time taken 0.25902009999998654 sec\n"
     ]
    }
   ],
   "source": [
    "print('Getting joiningwords ...')\n",
    "t0= time.perf_counter()\n",
    "phish_data['text_sent'] = phish_data['text_stemmed'].map(lambda l: ' '.join(l))\n",
    "t1= time.perf_counter() - t0\n",
    "print('Time taken',t1 ,'sec')"
   ]
  },
  {
   "cell_type": "code",
   "execution_count": 17,
   "metadata": {
    "colab": {
     "base_uri": "https://localhost:8080/",
     "height": 337
    },
    "id": "q2i54BTmC1ST",
    "outputId": "1b032efb-d691-41ab-b252-762e2136e7c1"
   },
   "outputs": [
    {
     "data": {
      "text/html": [
       "<div>\n",
       "<style scoped>\n",
       "    .dataframe tbody tr th:only-of-type {\n",
       "        vertical-align: middle;\n",
       "    }\n",
       "\n",
       "    .dataframe tbody tr th {\n",
       "        vertical-align: top;\n",
       "    }\n",
       "\n",
       "    .dataframe thead th {\n",
       "        text-align: right;\n",
       "    }\n",
       "</style>\n",
       "<table border=\"1\" class=\"dataframe\">\n",
       "  <thead>\n",
       "    <tr style=\"text-align: right;\">\n",
       "      <th></th>\n",
       "      <th>url</th>\n",
       "      <th>label</th>\n",
       "      <th>text_tokenized</th>\n",
       "      <th>text_stemmed</th>\n",
       "      <th>text_sent</th>\n",
       "    </tr>\n",
       "  </thead>\n",
       "  <tbody>\n",
       "    <tr>\n",
       "      <th>192088</th>\n",
       "      <td>baseball-almanac.com/teamstats/roster.php?y=19...</td>\n",
       "      <td>good</td>\n",
       "      <td>[baseball, almanac, com, teamstats, roster, ph...</td>\n",
       "      <td>[basebal, almanac, com, teamstat, roster, php,...</td>\n",
       "      <td>basebal almanac com teamstat roster php y t kca</td>\n",
       "    </tr>\n",
       "    <tr>\n",
       "      <th>33227</th>\n",
       "      <td>cluj-case.ro/doc/really2.php</td>\n",
       "      <td>bad</td>\n",
       "      <td>[cluj, case, ro, doc, really, php]</td>\n",
       "      <td>[cluj, case, ro, doc, realli, php]</td>\n",
       "      <td>cluj case ro doc realli php</td>\n",
       "    </tr>\n",
       "    <tr>\n",
       "      <th>28068</th>\n",
       "      <td>netherlands-icscards2016.it/ics/login/c4e7a347...</td>\n",
       "      <td>bad</td>\n",
       "      <td>[netherlands, icscards, it, ics, login, c, e, ...</td>\n",
       "      <td>[netherland, icscard, it, ic, login, c, e, a, ...</td>\n",
       "      <td>netherland icscard it ic login c e a d f dceb ...</td>\n",
       "    </tr>\n",
       "    <tr>\n",
       "      <th>106778</th>\n",
       "      <td>jeffgoodman4re.com/</td>\n",
       "      <td>good</td>\n",
       "      <td>[jeffgoodman, re, com]</td>\n",
       "      <td>[jeffgoodman, re, com]</td>\n",
       "      <td>jeffgoodman re com</td>\n",
       "    </tr>\n",
       "    <tr>\n",
       "      <th>234739</th>\n",
       "      <td>facebook.com/pages/The-Windmill/104056506298590</td>\n",
       "      <td>good</td>\n",
       "      <td>[facebook, com, pages, The, Windmill]</td>\n",
       "      <td>[facebook, com, page, the, windmil]</td>\n",
       "      <td>facebook com page the windmil</td>\n",
       "    </tr>\n",
       "  </tbody>\n",
       "</table>\n",
       "</div>"
      ],
      "text/plain": [
       "                                                      url label  \\\n",
       "192088  baseball-almanac.com/teamstats/roster.php?y=19...  good   \n",
       "33227                        cluj-case.ro/doc/really2.php   bad   \n",
       "28068   netherlands-icscards2016.it/ics/login/c4e7a347...   bad   \n",
       "106778                                jeffgoodman4re.com/  good   \n",
       "234739    facebook.com/pages/The-Windmill/104056506298590  good   \n",
       "\n",
       "                                           text_tokenized  \\\n",
       "192088  [baseball, almanac, com, teamstats, roster, ph...   \n",
       "33227                  [cluj, case, ro, doc, really, php]   \n",
       "28068   [netherlands, icscards, it, ics, login, c, e, ...   \n",
       "106778                             [jeffgoodman, re, com]   \n",
       "234739              [facebook, com, pages, The, Windmill]   \n",
       "\n",
       "                                             text_stemmed  \\\n",
       "192088  [basebal, almanac, com, teamstat, roster, php,...   \n",
       "33227                  [cluj, case, ro, doc, realli, php]   \n",
       "28068   [netherland, icscard, it, ic, login, c, e, a, ...   \n",
       "106778                             [jeffgoodman, re, com]   \n",
       "234739                [facebook, com, page, the, windmil]   \n",
       "\n",
       "                                                text_sent  \n",
       "192088    basebal almanac com teamstat roster php y t kca  \n",
       "33227                         cluj case ro doc realli php  \n",
       "28068   netherland icscard it ic login c e a d f dceb ...  \n",
       "106778                                 jeffgoodman re com  \n",
       "234739                      facebook com page the windmil  "
      ]
     },
     "execution_count": 17,
     "metadata": {},
     "output_type": "execute_result"
    }
   ],
   "source": [
    "phish_data.sample(5)"
   ]
  },
  {
   "cell_type": "code",
   "execution_count": 18,
   "metadata": {
    "id": "9mwMNTLjC1dS"
   },
   "outputs": [],
   "source": [
    "bad_sites = phish_data[phish_data.label == 'bad']\n",
    "good_sites = phish_data[phish_data.label == 'good']"
   ]
  },
  {
   "cell_type": "code",
   "execution_count": 19,
   "metadata": {
    "colab": {
     "base_uri": "https://localhost:8080/",
     "height": 206
    },
    "id": "cyf0bYQLC1qh",
    "outputId": "2080f342-f635-4199-c7b0-19ebcefe77b5"
   },
   "outputs": [
    {
     "data": {
      "text/html": [
       "<div>\n",
       "<style scoped>\n",
       "    .dataframe tbody tr th:only-of-type {\n",
       "        vertical-align: middle;\n",
       "    }\n",
       "\n",
       "    .dataframe tbody tr th {\n",
       "        vertical-align: top;\n",
       "    }\n",
       "\n",
       "    .dataframe thead th {\n",
       "        text-align: right;\n",
       "    }\n",
       "</style>\n",
       "<table border=\"1\" class=\"dataframe\">\n",
       "  <thead>\n",
       "    <tr style=\"text-align: right;\">\n",
       "      <th></th>\n",
       "      <th>url</th>\n",
       "      <th>label</th>\n",
       "      <th>text_tokenized</th>\n",
       "      <th>text_stemmed</th>\n",
       "      <th>text_sent</th>\n",
       "    </tr>\n",
       "  </thead>\n",
       "  <tbody>\n",
       "    <tr>\n",
       "      <th>0</th>\n",
       "      <td>diaryofagameaddict.com</td>\n",
       "      <td>bad</td>\n",
       "      <td>[diaryofagameaddict, com]</td>\n",
       "      <td>[diaryofagameaddict, com]</td>\n",
       "      <td>diaryofagameaddict com</td>\n",
       "    </tr>\n",
       "    <tr>\n",
       "      <th>1</th>\n",
       "      <td>espdesign.com.au</td>\n",
       "      <td>bad</td>\n",
       "      <td>[espdesign, com, au]</td>\n",
       "      <td>[espdesign, com, au]</td>\n",
       "      <td>espdesign com au</td>\n",
       "    </tr>\n",
       "    <tr>\n",
       "      <th>2</th>\n",
       "      <td>iamagameaddict.com</td>\n",
       "      <td>bad</td>\n",
       "      <td>[iamagameaddict, com]</td>\n",
       "      <td>[iamagameaddict, com]</td>\n",
       "      <td>iamagameaddict com</td>\n",
       "    </tr>\n",
       "    <tr>\n",
       "      <th>3</th>\n",
       "      <td>kalantzis.net</td>\n",
       "      <td>bad</td>\n",
       "      <td>[kalantzis, net]</td>\n",
       "      <td>[kalantzi, net]</td>\n",
       "      <td>kalantzi net</td>\n",
       "    </tr>\n",
       "    <tr>\n",
       "      <th>4</th>\n",
       "      <td>slightlyoffcenter.net</td>\n",
       "      <td>bad</td>\n",
       "      <td>[slightlyoffcenter, net]</td>\n",
       "      <td>[slightlyoffcent, net]</td>\n",
       "      <td>slightlyoffcent net</td>\n",
       "    </tr>\n",
       "  </tbody>\n",
       "</table>\n",
       "</div>"
      ],
      "text/plain": [
       "                      url label             text_tokenized  \\\n",
       "0  diaryofagameaddict.com   bad  [diaryofagameaddict, com]   \n",
       "1        espdesign.com.au   bad       [espdesign, com, au]   \n",
       "2      iamagameaddict.com   bad      [iamagameaddict, com]   \n",
       "3           kalantzis.net   bad           [kalantzis, net]   \n",
       "4   slightlyoffcenter.net   bad   [slightlyoffcenter, net]   \n",
       "\n",
       "                text_stemmed               text_sent  \n",
       "0  [diaryofagameaddict, com]  diaryofagameaddict com  \n",
       "1       [espdesign, com, au]        espdesign com au  \n",
       "2      [iamagameaddict, com]      iamagameaddict com  \n",
       "3            [kalantzi, net]            kalantzi net  \n",
       "4     [slightlyoffcent, net]     slightlyoffcent net  "
      ]
     },
     "execution_count": 19,
     "metadata": {},
     "output_type": "execute_result"
    }
   ],
   "source": [
    "bad_sites.head()"
   ]
  },
  {
   "cell_type": "code",
   "execution_count": 20,
   "metadata": {
    "colab": {
     "base_uri": "https://localhost:8080/",
     "height": 320
    },
    "id": "i6bDXKrhDd2C",
    "outputId": "4d2a0c21-637f-4d26-ebc3-d8807142ebd1"
   },
   "outputs": [
    {
     "data": {
      "text/html": [
       "<div>\n",
       "<style scoped>\n",
       "    .dataframe tbody tr th:only-of-type {\n",
       "        vertical-align: middle;\n",
       "    }\n",
       "\n",
       "    .dataframe tbody tr th {\n",
       "        vertical-align: top;\n",
       "    }\n",
       "\n",
       "    .dataframe thead th {\n",
       "        text-align: right;\n",
       "    }\n",
       "</style>\n",
       "<table border=\"1\" class=\"dataframe\">\n",
       "  <thead>\n",
       "    <tr style=\"text-align: right;\">\n",
       "      <th></th>\n",
       "      <th>url</th>\n",
       "      <th>label</th>\n",
       "      <th>text_tokenized</th>\n",
       "      <th>text_stemmed</th>\n",
       "      <th>text_sent</th>\n",
       "    </tr>\n",
       "  </thead>\n",
       "  <tbody>\n",
       "    <tr>\n",
       "      <th>42767</th>\n",
       "      <td>01453.com/</td>\n",
       "      <td>good</td>\n",
       "      <td>[com]</td>\n",
       "      <td>[com]</td>\n",
       "      <td>com</td>\n",
       "    </tr>\n",
       "    <tr>\n",
       "      <th>42768</th>\n",
       "      <td>015fb31.netsolhost.com/bosstweed.html</td>\n",
       "      <td>good</td>\n",
       "      <td>[fb, netsolhost, com, bosstweed, html]</td>\n",
       "      <td>[fb, netsolhost, com, bosstwe, html]</td>\n",
       "      <td>fb netsolhost com bosstwe html</td>\n",
       "    </tr>\n",
       "    <tr>\n",
       "      <th>42769</th>\n",
       "      <td>02bee66.netsolhost.com/lincolnhomepage/</td>\n",
       "      <td>good</td>\n",
       "      <td>[bee, netsolhost, com, lincolnhomepage]</td>\n",
       "      <td>[bee, netsolhost, com, lincolnhomepag]</td>\n",
       "      <td>bee netsolhost com lincolnhomepag</td>\n",
       "    </tr>\n",
       "    <tr>\n",
       "      <th>42770</th>\n",
       "      <td>02ec0a3.netsolhost.com/getperson.php?personID=...</td>\n",
       "      <td>good</td>\n",
       "      <td>[ec, a, netsolhost, com, getperson, php, perso...</td>\n",
       "      <td>[ec, a, netsolhost, com, getperson, php, perso...</td>\n",
       "      <td>ec a netsolhost com getperson php personid i t...</td>\n",
       "    </tr>\n",
       "    <tr>\n",
       "      <th>42771</th>\n",
       "      <td>032255.com/</td>\n",
       "      <td>good</td>\n",
       "      <td>[com]</td>\n",
       "      <td>[com]</td>\n",
       "      <td>com</td>\n",
       "    </tr>\n",
       "  </tbody>\n",
       "</table>\n",
       "</div>"
      ],
      "text/plain": [
       "                                                     url label  \\\n",
       "42767                                         01453.com/  good   \n",
       "42768              015fb31.netsolhost.com/bosstweed.html  good   \n",
       "42769            02bee66.netsolhost.com/lincolnhomepage/  good   \n",
       "42770  02ec0a3.netsolhost.com/getperson.php?personID=...  good   \n",
       "42771                                        032255.com/  good   \n",
       "\n",
       "                                          text_tokenized  \\\n",
       "42767                                              [com]   \n",
       "42768             [fb, netsolhost, com, bosstweed, html]   \n",
       "42769            [bee, netsolhost, com, lincolnhomepage]   \n",
       "42770  [ec, a, netsolhost, com, getperson, php, perso...   \n",
       "42771                                              [com]   \n",
       "\n",
       "                                            text_stemmed  \\\n",
       "42767                                              [com]   \n",
       "42768               [fb, netsolhost, com, bosstwe, html]   \n",
       "42769             [bee, netsolhost, com, lincolnhomepag]   \n",
       "42770  [ec, a, netsolhost, com, getperson, php, perso...   \n",
       "42771                                              [com]   \n",
       "\n",
       "                                               text_sent  \n",
       "42767                                                com  \n",
       "42768                     fb netsolhost com bosstwe html  \n",
       "42769                  bee netsolhost com lincolnhomepag  \n",
       "42770  ec a netsolhost com getperson php personid i t...  \n",
       "42771                                                com  "
      ]
     },
     "execution_count": 20,
     "metadata": {},
     "output_type": "execute_result"
    }
   ],
   "source": [
    "good_sites.head()"
   ]
  },
  {
   "cell_type": "code",
   "execution_count": 21,
   "metadata": {
    "id": "8J8xNO53DeAJ"
   },
   "outputs": [],
   "source": [
    "def plot_wordcloud(text, mask=None, max_words=400, max_font_size=120, figure_size=(24.0,16.0), \n",
    "                   title = None, title_size=40, image_color=False):\n",
    "    stopwords = set(STOPWORDS)\n",
    "    more_stopwords = {'com','http'}\n",
    "    stopwords = stopwords.union(more_stopwords)\n",
    "\n",
    "    wordcloud = WordCloud(background_color='white',\n",
    "                    stopwords = stopwords,\n",
    "                    max_words = max_words,\n",
    "                    max_font_size = max_font_size, \n",
    "                    random_state = 42,\n",
    "                    mask = mask)\n",
    "    wordcloud.generate(text)\n",
    "    \n",
    "    plt.figure(figsize=figure_size)\n",
    "    if image_color:\n",
    "        image_colors = ImageColorGenerator(mask);\n",
    "        plt.imshow(wordcloud.recolor(color_func=image_colors), interpolation=\"bilinear\");\n",
    "        plt.title(title, fontdict={'size': title_size,  \n",
    "                                  'verticalalignment': 'bottom'})\n",
    "    else:\n",
    "        plt.imshow(wordcloud);\n",
    "        plt.title(title, fontdict={'size': title_size, 'color': 'green', \n",
    "                                  'verticalalignment': 'bottom'})\n",
    "    plt.axis('off');\n",
    "    plt.tight_layout()  "
   ]
  },
  {
   "cell_type": "code",
   "execution_count": 22,
   "metadata": {
    "id": "xFWhztJbDeFB"
   },
   "outputs": [],
   "source": [
    "data = good_sites.text_sent\n",
    "data.reset_index(drop=True, inplace=True)"
   ]
  },
  {
   "cell_type": "code",
   "execution_count": 23,
   "metadata": {
    "id": "GMUDilkDDeJ_"
   },
   "outputs": [],
   "source": [
    "data = bad_sites.text_sent\n",
    "data.reset_index(drop=True, inplace=True)"
   ]
  },
  {
   "cell_type": "code",
   "execution_count": 24,
   "metadata": {
    "id": "bXiqaYCZDeN0"
   },
   "outputs": [],
   "source": [
    "list_urls = ['https://www.ezeephones.com/','https://www.ezeephones.com/about-us'] #here i take phishing sites \n",
    "links_with_text = []"
   ]
  },
  {
   "cell_type": "code",
   "execution_count": 25,
   "metadata": {
    "id": "8liK2OGMDeVu"
   },
   "outputs": [],
   "source": [
    "cv = CountVectorizer()"
   ]
  },
  {
   "cell_type": "code",
   "execution_count": 26,
   "metadata": {
    "id": "wBX0LQS3PIwL"
   },
   "outputs": [],
   "source": [
    "feature = cv.fit_transform(phish_data.text_sent) "
   ]
  },
  {
   "cell_type": "code",
   "execution_count": 27,
   "metadata": {
    "colab": {
     "base_uri": "https://localhost:8080/"
    },
    "id": "dXpe_dnyPI8R",
    "outputId": "3de4bd82-a7e4-4d7c-99d6-6fe8c7963c19"
   },
   "outputs": [
    {
     "data": {
      "text/plain": [
       "array([[0, 0, 0, ..., 0, 0, 0],\n",
       "       [0, 0, 0, ..., 0, 0, 0],\n",
       "       [0, 0, 0, ..., 0, 0, 0],\n",
       "       [0, 0, 0, ..., 0, 0, 0],\n",
       "       [0, 0, 0, ..., 0, 0, 0]], dtype=int64)"
      ]
     },
     "execution_count": 27,
     "metadata": {},
     "output_type": "execute_result"
    }
   ],
   "source": [
    "feature[:5].toarray() "
   ]
  },
  {
   "cell_type": "code",
   "execution_count": 28,
   "metadata": {
    "id": "i6YGl3LLPJH7"
   },
   "outputs": [],
   "source": [
    "trainX, testX, trainY, testY = train_test_split(feature, phish_data.label)"
   ]
  },
  {
   "cell_type": "code",
   "execution_count": 29,
   "metadata": {
    "id": "4cTg6EtPPJS_"
   },
   "outputs": [],
   "source": [
    "lr = LogisticRegression()"
   ]
  },
  {
   "cell_type": "code",
   "execution_count": 30,
   "metadata": {
    "colab": {
     "base_uri": "https://localhost:8080/"
    },
    "id": "Cxdxu1X8PJex",
    "outputId": "d203e8c9-83cc-47db-a506-18765117f052"
   },
   "outputs": [
    {
     "data": {
      "text/plain": [
       "LogisticRegression()"
      ]
     },
     "execution_count": 30,
     "metadata": {},
     "output_type": "execute_result"
    }
   ],
   "source": [
    "lr.fit(trainX,trainY)"
   ]
  },
  {
   "cell_type": "code",
   "execution_count": 31,
   "metadata": {
    "colab": {
     "base_uri": "https://localhost:8080/"
    },
    "id": "W9XZa76UPJpp",
    "outputId": "ad2a8bcc-c929-4189-8ac8-80fdd420ecd0"
   },
   "outputs": [
    {
     "data": {
      "text/plain": [
       "0.9709654096426805"
      ]
     },
     "execution_count": 31,
     "metadata": {},
     "output_type": "execute_result"
    }
   ],
   "source": [
    "lr.score(testX,testY)"
   ]
  },
  {
   "cell_type": "code",
   "execution_count": 32,
   "metadata": {
    "id": "qurm7Tp7PyoT"
   },
   "outputs": [],
   "source": [
    "Scores_ml = {}\n",
    "Scores_ml['Logistic Regression'] = np.round(lr.score(testX,testY),2)"
   ]
  },
  {
   "cell_type": "code",
   "execution_count": 33,
   "metadata": {
    "colab": {
     "base_uri": "https://localhost:8080/",
     "height": 560
    },
    "id": "DmZI8MzRPytb",
    "outputId": "4f6cfef6-ca12-4f85-815c-6435c93260b5"
   },
   "outputs": [
    {
     "name": "stdout",
     "output_type": "stream",
     "text": [
      "Training Accuracy : 0.9825399241472913\n",
      "Testing Accuracy : 0.9709654096426805\n",
      "\n",
      "CLASSIFICATION REPORT\n",
      "\n",
      "              precision    recall  f1-score   support\n",
      "\n",
      "         Bad       0.87      0.96      0.91     17028\n",
      "        Good       0.99      0.97      0.98     88088\n",
      "\n",
      "    accuracy                           0.97    105116\n",
      "   macro avg       0.93      0.97      0.95    105116\n",
      "weighted avg       0.97      0.97      0.97    105116\n",
      "\n",
      "\n",
      "CONFUSION MATRIX\n"
     ]
    },
    {
     "data": {
      "text/plain": [
       "<AxesSubplot:>"
      ]
     },
     "execution_count": 33,
     "metadata": {},
     "output_type": "execute_result"
    },
    {
     "data": {
      "image/png": "[encoded data removed]",
      "text/plain": [
       "<Figure size 432x288 with 2 Axes>"
      ]
     },
     "metadata": {
      "needs_background": "light"
     },
     "output_type": "display_data"
    }
   ],
   "source": [
    "print('Training Accuracy :',lr.score(trainX,trainY))\n",
    "print('Testing Accuracy :',lr.score(testX,testY))\n",
    "con_mat = pd.DataFrame(confusion_matrix(lr.predict(testX), testY),\n",
    "            columns = ['Predicted:Bad', 'Predicted:Good'],\n",
    "            index = ['Actual:Bad', 'Actual:Good'])\n",
    "\n",
    "\n",
    "print('\\nCLASSIFICATION REPORT\\n')\n",
    "print(classification_report(lr.predict(testX), testY,\n",
    "                            target_names =['Bad','Good']))\n",
    "\n",
    "print('\\nCONFUSION MATRIX')\n",
    "plt.figure(figsize= (6,4))\n",
    "sns.heatmap(con_mat, annot = True,fmt='d',cmap=\"YlGnBu\")"
   ]
  },
  {
   "cell_type": "code",
   "execution_count": 34,
   "metadata": {
    "id": "BJRqthzPPyyq"
   },
   "outputs": [],
   "source": [
    "mnb = MultinomialNB()"
   ]
  },
  {
   "cell_type": "code",
   "execution_count": 35,
   "metadata": {
    "colab": {
     "base_uri": "https://localhost:8080/"
    },
    "id": "duHJuBRoPy3U",
    "outputId": "d66edc8d-a82e-4735-fd23-da6d9316f6b7"
   },
   "outputs": [
    {
     "data": {
      "text/plain": [
       "MultinomialNB()"
      ]
     },
     "execution_count": 35,
     "metadata": {},
     "output_type": "execute_result"
    }
   ],
   "source": [
    "mnb.fit(trainX,trainY)"
   ]
  },
  {
   "cell_type": "code",
   "execution_count": 36,
   "metadata": {
    "colab": {
     "base_uri": "https://localhost:8080/"
    },
    "id": "jRRmE1Z5Py7t",
    "outputId": "f7fdfd61-d69c-4f8d-de3b-68fd9553e07e"
   },
   "outputs": [
    {
     "data": {
      "text/plain": [
       "0.970651470756117"
      ]
     },
     "execution_count": 36,
     "metadata": {},
     "output_type": "execute_result"
    }
   ],
   "source": [
    "mnb.score(testX,testY)"
   ]
  },
  {
   "cell_type": "code",
   "execution_count": 37,
   "metadata": {
    "id": "ze5-dqS8QhHe"
   },
   "outputs": [],
   "source": [
    "Scores_ml['MultinomialNB'] = np.round(mnb.score(testX,testY),2)"
   ]
  },
  {
   "cell_type": "code",
   "execution_count": 38,
   "metadata": {
    "colab": {
     "base_uri": "https://localhost:8080/",
     "height": 560
    },
    "id": "VObD1NLHQhRN",
    "outputId": "467dc016-3da7-4ac6-a66c-cd1fe9c0621e"
   },
   "outputs": [
    {
     "name": "stdout",
     "output_type": "stream",
     "text": [
      "Training Accuracy : 0.9816868982838007\n",
      "Testing Accuracy : 0.970651470756117\n",
      "\n",
      "CLASSIFICATION REPORT\n",
      "\n",
      "              precision    recall  f1-score   support\n",
      "\n",
      "         Bad       0.89      0.94      0.92     17695\n",
      "        Good       0.99      0.98      0.98     87421\n",
      "\n",
      "    accuracy                           0.97    105116\n",
      "   macro avg       0.94      0.96      0.95    105116\n",
      "weighted avg       0.97      0.97      0.97    105116\n",
      "\n",
      "\n",
      "CONFUSION MATRIX\n"
     ]
    },
    {
     "data": {
      "text/plain": [
       "<AxesSubplot:>"
      ]
     },
     "execution_count": 38,
     "metadata": {},
     "output_type": "execute_result"
    },
    {
     "data": {
      "image/png": "[encoded data removed]",
      "text/plain": [
       "<Figure size 432x288 with 2 Axes>"
      ]
     },
     "metadata": {
      "needs_background": "light"
     },
     "output_type": "display_data"
    }
   ],
   "source": [
    "print('Training Accuracy :',mnb.score(trainX,trainY))\n",
    "print('Testing Accuracy :',mnb.score(testX,testY))\n",
    "con_mat = pd.DataFrame(confusion_matrix(mnb.predict(testX), testY),\n",
    "            columns = ['Predicted:Bad', 'Predicted:Good'],\n",
    "            index = ['Actual:Bad', 'Actual:Good'])\n",
    "\n",
    "\n",
    "print('\\nCLASSIFICATION REPORT\\n')\n",
    "print(classification_report(mnb.predict(testX), testY,\n",
    "                            target_names =['Bad','Good']))\n",
    "\n",
    "print('\\nCONFUSION MATRIX')\n",
    "plt.figure(figsize= (6,4))\n",
    "sns.heatmap(con_mat, annot = True,fmt='d',cmap=\"YlGnBu\")"
   ]
  },
  {
   "cell_type": "code",
   "execution_count": 39,
   "metadata": {
    "colab": {
     "base_uri": "https://localhost:8080/",
     "height": 282
    },
    "id": "cPlZiI-zQhU6",
    "outputId": "97aad1b5-ccad-4d4b-e5d2-89485e31eea7"
   },
   "outputs": [
    {
     "data": {
      "text/plain": [
       "<AxesSubplot:ylabel='Accuracy'>"
      ]
     },
     "execution_count": 39,
     "metadata": {},
     "output_type": "execute_result"
    },
    {
     "data": {
      "image/png": "[encoded data removed]",
      "text/plain": [
       "<Figure size 432x288 with 1 Axes>"
      ]
     },
     "metadata": {},
     "output_type": "display_data"
    }
   ],
   "source": [
    "acc = pd.DataFrame.from_dict(Scores_ml,orient = 'index',columns=['Accuracy'])\n",
    "sns.set_style('darkgrid')\n",
    "sns.barplot(acc.index,acc.Accuracy)"
   ]
  },
  {
   "cell_type": "code",
   "execution_count": 40,
   "metadata": {
    "id": "Ziefj5WkQhYo"
   },
   "outputs": [],
   "source": [
    "pipeline_ls = make_pipeline(CountVectorizer(tokenizer = RegexpTokenizer(r'[A-Za-z]+').tokenize,stop_words='english'), LogisticRegression())"
   ]
  },
  {
   "cell_type": "code",
   "execution_count": 41,
   "metadata": {
    "id": "QmaHkKNMQhcv"
   },
   "outputs": [],
   "source": [
    "trainX, testX, trainY, testY = train_test_split(phish_data.url, phish_data.label)"
   ]
  },
  {
   "cell_type": "code",
   "execution_count": 42,
   "metadata": {
    "colab": {
     "base_uri": "https://localhost:8080/"
    },
    "id": "GHTk-Fm-Qhhh",
    "outputId": "c64dd228-9f69-491a-a774-ba67c44a5312"
   },
   "outputs": [
    {
     "data": {
      "text/plain": [
       "Pipeline(steps=[('countvectorizer',\n",
       "                 CountVectorizer(stop_words='english',\n",
       "                                 tokenizer=<bound method RegexpTokenizer.tokenize of RegexpTokenizer(pattern='[A-Za-z]+', gaps=False, discard_empty=True, flags=re.UNICODE|re.MULTILINE|re.DOTALL)>)),\n",
       "                ('logisticregression', LogisticRegression())])"
      ]
     },
     "execution_count": 42,
     "metadata": {},
     "output_type": "execute_result"
    }
   ],
   "source": [
    "pipeline_ls.fit(trainX,trainY)"
   ]
  },
  {
   "cell_type": "code",
   "execution_count": 43,
   "metadata": {
    "colab": {
     "base_uri": "https://localhost:8080/"
    },
    "id": "RWdCvizMQhrU",
    "outputId": "e887f8c9-1e50-4a49-9c09-77148bb9882e"
   },
   "outputs": [
    {
     "data": {
      "text/plain": [
       "0.9716598805129572"
      ]
     },
     "execution_count": 43,
     "metadata": {},
     "output_type": "execute_result"
    }
   ],
   "source": [
    "pipeline_ls.score(testX,testY) "
   ]
  },
  {
   "cell_type": "code",
   "execution_count": 44,
   "metadata": {
    "colab": {
     "base_uri": "https://localhost:8080/",
     "height": 560
    },
    "id": "qJjpSYqqRkKW",
    "outputId": "f6650435-2f8a-4879-a108-6c448fdb1ca3"
   },
   "outputs": [
    {
     "name": "stdout",
     "output_type": "stream",
     "text": [
      "Training Accuracy : 0.9840335121833657\n",
      "Testing Accuracy : 0.9716598805129572\n",
      "\n",
      "CLASSIFICATION REPORT\n",
      "\n",
      "              precision    recall  f1-score   support\n",
      "\n",
      "         Bad       0.88      0.96      0.92     17246\n",
      "        Good       0.99      0.97      0.98     87870\n",
      "\n",
      "    accuracy                           0.97    105116\n",
      "   macro avg       0.93      0.97      0.95    105116\n",
      "weighted avg       0.97      0.97      0.97    105116\n",
      "\n",
      "\n",
      "CONFUSION MATRIX\n"
     ]
    },
    {
     "data": {
      "text/plain": [
       "<AxesSubplot:>"
      ]
     },
     "execution_count": 44,
     "metadata": {},
     "output_type": "execute_result"
    },
    {
     "data": {
      "image/png": "[encoded data removed]",
      "text/plain": [
       "<Figure size 432x288 with 2 Axes>"
      ]
     },
     "metadata": {},
     "output_type": "display_data"
    }
   ],
   "source": [
    "print('Training Accuracy :',pipeline_ls.score(trainX,trainY))\n",
    "print('Testing Accuracy :',pipeline_ls.score(testX,testY))\n",
    "con_mat = pd.DataFrame(confusion_matrix(pipeline_ls.predict(testX), testY),\n",
    "            columns = ['Predicted:Bad', 'Predicted:Good'],\n",
    "            index = ['Actual:Bad', 'Actual:Good'])\n",
    "\n",
    "\n",
    "print('\\nCLASSIFICATION REPORT\\n')\n",
    "print(classification_report(pipeline_ls.predict(testX), testY,\n",
    "                            target_names =['Bad','Good']))\n",
    "\n",
    "print('\\nCONFUSION MATRIX')\n",
    "plt.figure(figsize= (6,4))\n",
    "sns.heatmap(con_mat, annot = True,fmt='d',cmap=\"YlGnBu\")"
   ]
  },
  {
   "cell_type": "code",
   "execution_count": 45,
   "metadata": {
    "id": "I50IrJrJRkXn"
   },
   "outputs": [],
   "source": [
    "pickle.dump(pipeline_ls,open('phishing.pkl','wb'))"
   ]
  },
  {
   "cell_type": "code",
   "execution_count": 46,
   "metadata": {
    "colab": {
     "base_uri": "https://localhost:8080/"
    },
    "id": "vbtzQfIWRkiD",
    "outputId": "0411cd48-1bd3-4aa5-d697-e120a8987dc9"
   },
   "outputs": [
    {
     "name": "stdout",
     "output_type": "stream",
     "text": [
      "0.9716598805129572\n"
     ]
    }
   ],
   "source": [
    "loaded_model = pickle.load(open('phishing.pkl', 'rb'))\n",
    "result = loaded_model.score(testX,testY)\n",
    "print(result)"
   ]
  },
  {
   "cell_type": "code",
   "execution_count": 48,
   "metadata": {
    "colab": {
     "base_uri": "https://localhost:8080/"
    },
    "id": "XfizkCPtRkrj",
    "outputId": "b7c93613-87bb-4557-d082-b0fbd47428de"
   },
   "outputs": [
    {
     "name": "stdout",
     "output_type": "stream",
     "text": [
      "['bad' 'good' 'bad' 'bad' 'bad']\n",
      "******************************\n",
      "['bad' 'good' 'good' 'good' 'good']\n"
     ]
    }
   ],
   "source": [
    "predict_bad = ['yeniik.com.tr/wp-admin/js/login.alibaba.com/login.jsp.php','youtube.com/','fazan-pacir.rs/temp/libraries/ipad','tubemoviez.exe','svision-online.de/mgfi/administrator/components/com_babackup/classes/fx29id1.txt']\n",
    "predict_good = ['yeniik.com.tr/wp-admin/js/login.alibaba.com/login.jsp.php' , 'youtube.com/','youtube.com/watch?v=qI0TQJI3vdU','retailhellunderground.com/','restorevisioncenters.com/html/technology.html']\n",
    "loaded_model = pickle.load(open('phishing.pkl', 'rb'))\n",
    "#predict_bad = vectorizers.transform(predict_bad)\n",
    "# predict_good = vectorizer.transform(predict_good)\n",
    "result = loaded_model.predict(predict_bad)\n",
    "result2 = loaded_model.predict(predict_good)\n",
    "print(result)\n",
    "print(\"*\"*30)\n",
    "print(result2)"
   ]
  },
  {
   "cell_type": "code",
   "execution_count": null,
   "metadata": {
    "id": "C39F2pPZRk07"
   },
   "outputs": [],
   "source": []
  },
  {
   "cell_type": "code",
   "execution_count": null,
   "metadata": {
    "id": "UXURigBeRk-V"
   },
   "outputs": [],
   "source": []
  }
 ],
 "metadata": {
  "colab": {
   "name": "project.ipynb",
   "provenance": []
  },
  "gpuClass": "standard",
  "kernelspec": {
   "display_name": "Python 3 (ipykernel)",
   "language": "python",
   "name": "python3"
  },
  "language_info": {
   "codemirror_mode": {
    "name": "ipython",
    "version": 3
   },
   "file_extension": ".py",
   "mimetype": "text/x-python",
   "name": "python",
   "nbconvert_exporter": "python",
   "pygments_lexer": "ipython3",
   "version": "3.9.12"
  }
 },
 "nbformat": 4,
 "nbformat_minor": 1
}
